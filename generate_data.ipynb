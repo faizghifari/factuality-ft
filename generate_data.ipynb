{
 "cells": [
  {
   "cell_type": "code",
   "execution_count": 3,
   "metadata": {},
   "outputs": [
    {
     "name": "stderr",
     "output_type": "stream",
     "text": [
      "[nltk_data] Downloading package punkt to /home/haznitrama/nltk_data...\n",
      "[nltk_data]   Package punkt is already up-to-date!\n"
     ]
    }
   ],
   "source": [
    "import concurrent.futures\n",
    "\n",
    "from factscore.atomic_facts import AtomicFactGenerator\n",
    "\n",
    "generator = AtomicFactGenerator(\n",
    "    \"api.key\", \"demos\", gpt3_cache_file=\"gpt_cache.pkl\"\n",
    ")\n",
    "\n",
    "def process_data_single(dp):\n",
    "    if not {\"topic\": dp[\"topic\"], \"num_response\": dp[\"num_response\"]} in annotated_bio:\n",
    "        atomic_facts, _ = generator.run(dp[\"output\"])\n",
    "        annotations = []\n",
    "        for f in atomic_facts:\n",
    "            annotations.append({\n",
    "                \"text\": f[0],\n",
    "                \"model-atomic-facts\": [{\"text\": t} for t in f[1]]\n",
    "            })\n",
    "        dp[\"annotations\"] = annotations\n",
    "\n",
    "        return dp\n",
    "    else:\n",
    "        return None\n",
    "\n",
    "\n",
    "def process_data_multi(data):\n",
    "    with concurrent.futures.ThreadPoolExecutor() as executor:\n",
    "        futures = {executor.submit(process_data_single, d): d for d in data}\n",
    "\n",
    "        concurrent.futures.wait(futures)\n",
    "\n",
    "        for future in futures:\n",
    "            annotated_dp = future.result()\n",
    "            if annotated_dp is not None:\n",
    "                append_dict_to_jsonl(\"Llama-1-7B-facts.jsonl\", annotated_dp)"
   ]
  },
  {
   "cell_type": "code",
   "execution_count": 4,
   "metadata": {},
   "outputs": [
    {
     "name": "stderr",
     "output_type": "stream",
     "text": [
      "3550it [05:34, 10.61it/s]  \n"
     ]
    }
   ],
   "source": [
    "from tqdm import tqdm\n",
    "\n",
    "annotated_bio = read_jsonl_file(\"Llama-1-7B-facts.jsonl\")\n",
    "\n",
    "with open(\"Llama-1-7B.jsonl\") as f:\n",
    "    batch_data = []\n",
    "    for line in tqdm(f):\n",
    "        dp = json.loads(line)\n",
    "        batch_data.append(dp)\n",
    "        if len(batch_data) == 2:\n",
    "            process_data_multi(batch_data)\n",
    "            batch_data = []\n",
    "    if batch_data:\n",
    "        process_data_multi(batch_data)"
   ]
  },
  {
   "cell_type": "code",
   "execution_count": null,
   "metadata": {},
   "outputs": [],
   "source": []
  }
 ],
 "metadata": {
  "kernelspec": {
   "display_name": "Python 3",
   "language": "python",
   "name": "python3"
  },
  "language_info": {
   "codemirror_mode": {
    "name": "ipython",
    "version": 3
   },
   "file_extension": ".py",
   "mimetype": "text/x-python",
   "name": "python",
   "nbconvert_exporter": "python",
   "pygments_lexer": "ipython3",
   "version": "3.8.10"
  }
 },
 "nbformat": 4,
 "nbformat_minor": 2
}
