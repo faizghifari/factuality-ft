{
 "cells": [
  {
   "cell_type": "code",
   "execution_count": 4,
   "metadata": {},
   "outputs": [],
   "source": [
    "import utils\n",
    "import random\n",
    "\n",
    "from factscore.retrieval import DocDB\n",
    "\n",
    "db = DocDB(db_path=\".cache/factscore/enwiki-20230401.db\")\n",
    "\n",
    "def check_db(ent):\n",
    "    try:\n",
    "        db.get_text_from_title(ent)\n",
    "        return True\n",
    "    except AssertionError:\n",
    "        return False\n",
    "\n",
    "def append_unique_elements_with_check(list_a, list_b, n, check_func):\n",
    "    # Convert lists to sets for faster lookup\n",
    "    set_a = set(list_a)\n",
    "    set_b = set(list_b)\n",
    "\n",
    "    # Find unique elements in list_b that satisfy the check function\n",
    "    unique_elements = [elem for elem in set_b - set_a if check_func(elem)]\n",
    "\n",
    "    # Randomly pick n unique elements\n",
    "    if len(unique_elements) >= n:\n",
    "        new_elements = random.sample(unique_elements, n)\n",
    "    else:\n",
    "        new_elements = unique_elements\n",
    "\n",
    "    # Append new elements to list_a\n",
    "    list_a.extend(new_elements)\n",
    "    return list_a\n",
    "\n",
    "named_entities = utils.read_file_lines(\"./all_names.txt\")\n",
    "chosen_entities = utils.read_file_lines(\"./chosen_names.txt\")\n",
    "\n",
    "new_chosen_names = append_unique_elements_with_check(chosen_entities, named_entities, 355 - len(chosen_entities), check_db)"
   ]
  },
  {
   "cell_type": "code",
   "execution_count": 6,
   "metadata": {},
   "outputs": [],
   "source": [
    "utils.write_list_to_file(\"./chosen_names.txt\", new_chosen_names)"
   ]
  },
  {
   "cell_type": "code",
   "execution_count": 15,
   "metadata": {},
   "outputs": [],
   "source": [
    "import utils\n",
    "\n",
    "def calculate_average_factscore(dict_list, names=None):\n",
    "    total_factscore = 0\n",
    "    count = 0\n",
    "\n",
    "    for d in dict_list:\n",
    "        if \"factscore\" in d:\n",
    "            if names is not None:\n",
    "                if d[\"topic\"] in names:\n",
    "                    total_factscore += d[\"factscore\"]\n",
    "                    count += 1    \n",
    "            else:\n",
    "                total_factscore += d[\"factscore\"]\n",
    "                count += 1\n",
    "\n",
    "    if count == 0:\n",
    "        return None\n",
    "    else:\n",
    "        return total_factscore / count\n",
    "\n",
    "def calculate_average_facts(dict_list, names=None):\n",
    "    all_facts = 0\n",
    "    for d in dict_list:\n",
    "        total_facts = 0\n",
    "        if names is not None:\n",
    "            if d[\"topic\"] in names:\n",
    "                for ann in d[\"annotations\"]:\n",
    "                    total_facts += len(ann[\"model-atomic-facts\"])\n",
    "                all_facts += total_facts\n",
    "        else:\n",
    "            for ann in d[\"annotations\"]:\n",
    "                total_facts += len(ann[\"model-atomic-facts\"])\n",
    "            all_facts += total_facts\n",
    "    \n",
    "    return all_facts / len(dict_list)\n",
    "\n",
    "def calculate_average_true_false_facts(dict_list, names=None):\n",
    "    false_facts = 0\n",
    "    true_facts = 0\n",
    "    true_per = 0.0\n",
    "    for d in dict_list:\n",
    "        t = 0\n",
    "        f = 0\n",
    "        if names is not None:\n",
    "            if d[\"topic\"] in names:\n",
    "                for ann in d[\"annotations\"]:\n",
    "                    for atom in ann[\"model-atomic-facts\"]:\n",
    "                        if atom[\"is_supported\"][\"is_supported\"]:\n",
    "                            t += 1\n",
    "                        else:\n",
    "                            f += 1\n",
    "            true_facts += t\n",
    "            false_facts += f\n",
    "            true_per += t / (t+f)\n",
    "        else:\n",
    "            for ann in d[\"annotations\"]:\n",
    "                for atom in ann[\"model-atomic-facts\"]:\n",
    "                    if atom[\"is_supported\"][\"is_supported\"]:\n",
    "                        t += 1\n",
    "                    else:\n",
    "                        f += 1\n",
    "            true_facts += t\n",
    "            false_facts += f\n",
    "            if (t+f) != 0:\n",
    "                true_per += t / (t+f)\n",
    "\n",
    "    return true_facts / len(dict_list), false_facts / len(dict_list), true_facts / (true_facts + false_facts)"
   ]
  },
  {
   "cell_type": "code",
   "execution_count": 60,
   "metadata": {},
   "outputs": [],
   "source": [
    "from glob import glob\n",
    "\n",
    "base_test_results = {}\n",
    "infamous_test_results = {}\n",
    "for fpath in glob(\"./data/test_zeroshot/*.jsonl\"):\n",
    "    fname = fpath.split(\"/\")[-1]\n",
    "    model = fname.split(\"-test\")[0]\n",
    "\n",
    "    test_data = utils.read_jsonl_file(fpath, remove_annotate=False)\n",
    "    true_facts, false_facts, true_per = calculate_average_true_false_facts(test_data)\n",
    "    if \"infamous\" in fpath:\n",
    "        infamous_model = model.replace(\"infamous-\", \"\")\n",
    "        infamous_test_results[infamous_model] = {\n",
    "            \"avg_factscore\": calculate_average_factscore(test_data),\n",
    "            \"avg_num_facts\": calculate_average_facts(test_data),\n",
    "            \"avg_correct_facts\": true_facts,\n",
    "            \"avg_incorrect_facts\": false_facts,\n",
    "            \"avg_correct_percentage\": true_per\n",
    "        }\n",
    "    else:\n",
    "        base_test_results[model] = {\n",
    "            \"avg_factscore\": calculate_average_factscore(test_data),\n",
    "            \"avg_num_facts\": calculate_average_facts(test_data),\n",
    "            \"avg_correct_facts\": true_facts,\n",
    "            \"avg_incorrect_facts\": false_facts,\n",
    "            \"avg_correct_percentage\": true_per\n",
    "        }"
   ]
  },
  {
   "cell_type": "code",
   "execution_count": 61,
   "metadata": {},
   "outputs": [],
   "source": [
    "import json\n",
    "\n",
    "with open(\"./data/test_zeroshot/base_test_results.json\", \"w\") as file:\n",
    "    json.dump(base_test_results, file, indent=4)\n",
    "\n",
    "with open(\"./data/test_zeroshot/infamous_test_results.json\", \"w\") as file:\n",
    "    json.dump(infamous_test_results, file, indent=4)"
   ]
  },
  {
   "cell_type": "code",
   "execution_count": 65,
   "metadata": {},
   "outputs": [
    {
     "data": {
      "image/png": "[encoded data removed]",
      "text/plain": [
       "<Figure size 640x480 with 1 Axes>"
      ]
     },
     "metadata": {},
     "output_type": "display_data"
    }
   ],
   "source": [
    "import json\n",
    "import matplotlib.pyplot as plt\n",
    "\n",
    "# Load the JSON data\n",
    "with open('./data/test_zeroshot/infamous_test_results.json', 'r') as f:\n",
    "    data = json.load(f)\n",
    "\n",
    "# Extract the required values from the JSON data\n",
    "x_values = []\n",
    "y_values = []\n",
    "labels = []\n",
    "\n",
    "for key, value in data.items():\n",
    "    x_values.append(value['avg_incorrect_facts'])\n",
    "    y_values.append(value['avg_correct_facts'])\n",
    "    labels.append(key)\n",
    "\n",
    "# Create the plot\n",
    "fig, ax = plt.subplots()\n",
    "ax.scatter(x_values, y_values)\n",
    "\n",
    "# Add labels and title\n",
    "ax.set_xlabel('Average Incorrect Facts')\n",
    "ax.set_ylabel('Average Correct Facts')\n",
    "ax.set_title('(Infamous) Correct-Incorrect Facts Plot: Base+ZeroShot')\n",
    "\n",
    "# Add data labels\n",
    "for i, label in enumerate(labels):\n",
    "    ax.annotate(label, (x_values[i], y_values[i]))\n",
    "\n",
    "# Show the plot\n",
    "plt.show()"
   ]
  },
  {
   "cell_type": "code",
   "execution_count": 29,
   "metadata": {},
   "outputs": [
    {
     "name": "stdout",
     "output_type": "stream",
     "text": [
      "1480\n",
      "phi3_wiki 0.93845548994859\n",
      "2960\n",
      "based 0.4051755796044512\n"
     ]
    }
   ],
   "source": [
    "train_names = utils.read_file_lines(\"./infamous_train.txt\")\n",
    "phi3_wiki = utils.read_jsonl_file(\"./data/infamous/infamous-factscore-wiki.jsonl\", remove_annotate=False)\n",
    "based = utils.read_jsonl_file(\"./data/infamous/infamous-factscore.jsonl\", remove_annotate=False)\n",
    "# free = utils.read_jsonl_file_all(\"./data/reference_free/Llama-1-7B-facts-questions-factscore-Hung.jsonl\")\n",
    "# old = utils.read_jsonl_file(\"./data/infamous/infamous-factscore.jsonl\", remove_annotate=False)\n",
    "\n",
    "print(\"phi3_wiki\", calculate_average_factscore(phi3_wiki, names=train_names))\n",
    "print(\"based\", calculate_average_factscore(based, names=train_names))\n",
    "# print(\"free\", calculate_average_factscore(free, names=train_names))\n",
    "# print(\"old\", calculate_average_factscore(old))"
   ]
  },
  {
   "cell_type": "code",
   "execution_count": 7,
   "metadata": {},
   "outputs": [],
   "source": [
    "based_train = utils.read_jsonl_file_all(\"./data/Llama-1-7B-pref-based-train.jsonl\")"
   ]
  },
  {
   "cell_type": "code",
   "execution_count": 9,
   "metadata": {},
   "outputs": [
    {
     "data": {
      "text/plain": [
       "296"
      ]
     },
     "execution_count": 9,
     "metadata": {},
     "output_type": "execute_result"
    }
   ],
   "source": [
    "prompt_train = [b[\"prompt\"] for b in based_train]\n",
    "prompt_train = list(set(prompt_train))"
   ]
  },
  {
   "cell_type": "code",
   "execution_count": 16,
   "metadata": {},
   "outputs": [],
   "source": [
    "from operator import itemgetter\n",
    "\n",
    "facts = utils.read_jsonl_file_all(\"./data/Llama-1-7B-facts.jsonl\")\n",
    "sorted_facts = sorted(facts, key=itemgetter(\"topic\", \"num_response\"))\n",
    "sorted_free = sorted(free, key=itemgetter(\"topic\", \"num_response\"))\n",
    "\n",
    "for idx, s in enumerate(sorted_free):\n",
    "    f = sorted_facts[idx]\n",
    "    if s[\"topic\"] == f[\"topic\"] and s[\"num_response\"] == f[\"num_response\"]:\n",
    "        s[\"input\"] = f[\"input\"]\n",
    "        s[\"output\"] = f[\"output\"]\n",
    "    else:\n",
    "        raise ValueError()"
   ]
  },
  {
   "cell_type": "code",
   "execution_count": 17,
   "metadata": {},
   "outputs": [],
   "source": [
    "free_train, free_test = [], []\n",
    "\n",
    "for s in sorted_free:\n",
    "    if s[\"input\"] in prompt_train:\n",
    "        free_train.append(s)\n",
    "    else:\n",
    "        free_test.append(s)"
   ]
  },
  {
   "cell_type": "code",
   "execution_count": 23,
   "metadata": {},
   "outputs": [],
   "source": [
    "free_train_batch = utils.split_list_into_batches(free_train, 10)"
   ]
  },
  {
   "cell_type": "code",
   "execution_count": 17,
   "metadata": {},
   "outputs": [
    {
     "name": "stdout",
     "output_type": "stream",
     "text": [
      "Data written to ./data/test/FactTune-MC-test.jsonl successfully.\n"
     ]
    }
   ],
   "source": [
    "import utils\n",
    "from operator import itemgetter\n",
    "\n",
    "def remove_duplicates(dict_list):\n",
    "    unique_dicts = []\n",
    "    seen = []  # Use a list instead of a set\n",
    "\n",
    "    for d in dict_list:\n",
    "        t = tuple(d.items())  # Convert to tuple of (key, value) pairs\n",
    "        if t not in seen:\n",
    "            seen.append(t)\n",
    "            unique_dicts.append(d)\n",
    "\n",
    "    return unique_dicts\n",
    "\n",
    "def dict_key(d, keys):\n",
    "    \"\"\"\n",
    "    Returns a tuple of values corresponding to the given keys in the dictionary.\n",
    "    This tuple can be used as a key for grouping or deduplication purposes.\n",
    "    \"\"\"\n",
    "    return tuple(d[k] for k in keys)\n",
    "\n",
    "facts = utils.read_jsonl_file_all(\"./data/test/FactTune-MC-test.jsonl\")\n",
    "sorted_facts = sorted(facts, key=itemgetter(\"topic\", \"num_response\"))\n",
    "sorted_facts = remove_duplicates(sorted_facts)\n",
    "sorted_facts = list({dict_key(d, [\"topic\", \"num_response\"]): d for d in sorted_facts}.values())\n",
    "batches = utils.split_list_into_batches(sorted_facts, 10)\n",
    "for batch in batches:\n",
    "    same = check_same_topic(batch)\n",
    "    if not same:\n",
    "        print(batch[0][\"topic\"])\n",
    "        raise ValueError()\n",
    "\n",
    "utils.write_jsonl(sorted_facts, \"./data/test/FactTune-MC-test.jsonl\")\n",
    "\n",
    "# old_batches = utils.split_list_into_batches(sorted_facts, 10)\n",
    "# train_data, test_data = utils.random_sample_and_remaining(old_batches, 296)"
   ]
  },
  {
   "cell_type": "code",
   "execution_count": 1,
   "metadata": {},
   "outputs": [],
   "source": [
    "def check_same_topic(dict_list):\n",
    "    \"\"\"\n",
    "    Checks if all dictionaries in a list have the same value for the key \"topic\".\n",
    "    Returns True if all dictionaries have the same \"topic\" value, False otherwise.\n",
    "    \"\"\"\n",
    "    if not dict_list:\n",
    "        return True  # Return True for an empty list\n",
    "\n",
    "    first_dict = dict_list[0]\n",
    "    if \"topic\" not in first_dict:\n",
    "        return False  # Return True if \"topic\" key is not present in any dictionary\n",
    "\n",
    "    reference_topic = first_dict[\"topic\"]\n",
    "\n",
    "    for d in dict_list:\n",
    "        if \"topic\" not in d or d[\"topic\"] != reference_topic:\n",
    "            return False\n",
    "\n",
    "    return True"
   ]
  },
  {
   "cell_type": "code",
   "execution_count": 26,
   "metadata": {},
   "outputs": [],
   "source": [
    "for batch in free_train_batch:\n",
    "    same = check_same_topic(batch)\n",
    "    if not same:\n",
    "        print(batch[0][\"topic\"])\n",
    "        raise ValueError()"
   ]
  },
  {
   "cell_type": "code",
   "execution_count": 9,
   "metadata": {},
   "outputs": [],
   "source": [
    "from itertools import combinations\n",
    "\n",
    "def process_pairs(data):\n",
    "    pairs = []\n",
    "    for pair in combinations(data, 2):\n",
    "        if pair[0][\"factscore\"] != pair[1][\"factscore\"]:\n",
    "            pref = {\"prompt\": pair[0][\"input\"]}\n",
    "            if pair[0][\"factscore\"] > pair[1][\"factscore\"]:\n",
    "                pref[\"chosen\"] = pair[0][\"output\"]\n",
    "                pref[\"rejected\"] = pair[1][\"output\"]\n",
    "            else:\n",
    "                pref[\"chosen\"] = pair[1][\"output\"]\n",
    "                pref[\"rejected\"] = pair[0][\"output\"]\n",
    "            pairs.append(pref)\n",
    "    return pairs\n",
    "\n",
    "def convert_list_of_dicts_to_dict(list_of_dicts):\n",
    "    \"\"\"\n",
    "    Converts a list of dictionaries with the same keys into a dictionary\n",
    "    where each key contains a list of values from all dictionaries in the input list.\n",
    "    \"\"\"\n",
    "    result_dict = {}\n",
    "    keys = list_of_dicts[0].keys()  # Assuming all dictionaries have the same keys\n",
    "\n",
    "    for key in keys:\n",
    "        result_dict[key] = [d[key] for d in list_of_dicts]\n",
    "\n",
    "    return result_dict"
   ]
  },
  {
   "cell_type": "code",
   "execution_count": 30,
   "metadata": {},
   "outputs": [],
   "source": [
    "old_pref_data = []\n",
    "for batch in free_train_batch:\n",
    "    pairs = process_pairs(batch)\n",
    "    for pair in pairs:\n",
    "        old_pref_data.append(pair)"
   ]
  },
  {
   "cell_type": "code",
   "execution_count": 31,
   "metadata": {},
   "outputs": [
    {
     "name": "stdout",
     "output_type": "stream",
     "text": [
      "Data written to ./data/Llama-1-7B-pref-free-train.jsonl successfully.\n",
      "13318\n"
     ]
    },
    {
     "data": {
      "application/vnd.jupyter.widget-view+json": {
       "model_id": "0ff6d84c470a4390aae73a71797d1c5e",
       "version_major": 2,
       "version_minor": 0
      },
      "text/plain": [
       "Saving the dataset (0/1 shards):   0%|          | 0/13318 [00:00<?, ? examples/s]"
      ]
     },
     "metadata": {},
     "output_type": "display_data"
    }
   ],
   "source": [
    "import random\n",
    "\n",
    "from datasets import Dataset\n",
    "\n",
    "random.shuffle(old_pref_data)\n",
    "utils.write_jsonl(old_pref_data, \"./data/Llama-1-7B-pref-free-train.jsonl\")\n",
    "\n",
    "print(len(old_pref_data))\n",
    "\n",
    "train = convert_list_of_dicts_to_dict(old_pref_data)\n",
    "train = Dataset.from_dict(train)\n",
    "\n",
    "train.save_to_disk(\"./data/Llama-1-7B-free-train\")"
   ]
  },
  {
   "cell_type": "code",
   "execution_count": 32,
   "metadata": {},
   "outputs": [
    {
     "name": "stdout",
     "output_type": "stream",
     "text": [
      "Data written to ./data/Llama-1-7B-free-test.jsonl successfully.\n"
     ]
    }
   ],
   "source": [
    "# flatten_test = []\n",
    "# for d in test_data:\n",
    "#     flatten_test.extend(d)\n",
    "\n",
    "random.shuffle(free_test)\n",
    "utils.write_jsonl(free_test, \"./data/Llama-1-7B-free-test.jsonl\")"
   ]
  },
  {
   "cell_type": "markdown",
   "metadata": {},
   "source": [
    "## Some Scratch Notes"
   ]
  },
  {
   "cell_type": "code",
   "execution_count": 1,
   "metadata": {},
   "outputs": [],
   "source": [
    "from mediawiki import MediaWiki\n",
    "\n",
    "wikipedia = MediaWiki()"
   ]
  },
  {
   "cell_type": "code",
   "execution_count": 3,
   "metadata": {},
   "outputs": [],
   "source": [
    "import utils, random\n",
    "\n",
    "infamous_all = utils.read_jsonl_file_all(\"./data/infamous/infamous-factscore.jsonl\")\n",
    "infamous_test = utils.read_jsonl_file_all(\"./data/infamous/infamous-based-test.jsonl\")\n",
    "\n",
    "all_names = []\n",
    "for d in infamous_all:\n",
    "    if d[\"topic\"] not in all_names:\n",
    "        all_names.append(d[\"topic\"])\n",
    "all_names = list(set(all_names))\n",
    "\n",
    "test_names = []\n",
    "for d in infamous_test:\n",
    "    if d[\"topic\"] not in test_names:\n",
    "        test_names.append(d[\"topic\"])\n",
    "test_names = list(set(test_names))"
   ]
  },
  {
   "cell_type": "code",
   "execution_count": 4,
   "metadata": {},
   "outputs": [],
   "source": [
    "train_names = []\n",
    "for name in all_names:\n",
    "    if name not in test_names:\n",
    "        train_names.append(name)"
   ]
  },
  {
   "cell_type": "code",
   "execution_count": 7,
   "metadata": {},
   "outputs": [],
   "source": [
    "utils.write_list_to_file(\"infamous_train.txt\", train_names)\n",
    "utils.write_list_to_file(\"infamous_test.txt\", test_names)"
   ]
  },
  {
   "cell_type": "code",
   "execution_count": 8,
   "metadata": {},
   "outputs": [
    {
     "name": "stderr",
     "output_type": "stream",
     "text": [
      "  0%|          | 0/296 [00:00<?, ?it/s]"
     ]
    },
    {
     "name": "stderr",
     "output_type": "stream",
     "text": [
      "100%|██████████| 296/296 [05:59<00:00,  1.22s/it]\n"
     ]
    }
   ],
   "source": [
    "from tqdm import tqdm\n",
    "\n",
    "for t in tqdm(train_names):\n",
    "    wiki_content = wikipedia.page(t).content\n",
    "    wiki_content = wiki_content.split(\"\\n\\n\")[0]\n",
    "    utils.append_dict_to_jsonl(\"./data/infamous-train-wiki.jsonl\", {t: wiki_content})"
   ]
  },
  {
   "cell_type": "code",
   "execution_count": 11,
   "metadata": {},
   "outputs": [
    {
     "name": "stdout",
     "output_type": "stream",
     "text": [
      "{'a': 1, 'b': 2, 'c': 3, 'd': 4, 'e': 5, 'f': 6}\n"
     ]
    }
   ],
   "source": [
    "def merge_dicts(list_of_dicts):\n",
    "    result = {}\n",
    "    for d in list_of_dicts:\n",
    "        result.update(d)\n",
    "    return result\n",
    "\n",
    "# Example usage\n",
    "list_of_dicts = [\n",
    "    {\"a\": 1, \"b\": 2},\n",
    "    {\"c\": 3, \"d\": 4},\n",
    "    {\"e\": 5, \"f\": 6}\n",
    "]\n",
    "\n",
    "merged_dict = merge_dicts(list_of_dicts)\n",
    "print(merged_dict)"
   ]
  },
  {
   "cell_type": "code",
   "execution_count": 9,
   "metadata": {},
   "outputs": [],
   "source": [
    "train_wiki = utils.read_jsonl_file_all(\"./data/infamous-train-wiki.jsonl\")"
   ]
  },
  {
   "cell_type": "code",
   "execution_count": 12,
   "metadata": {},
   "outputs": [],
   "source": [
    "train_wiki = merge_dicts(train_wiki)"
   ]
  },
  {
   "cell_type": "code",
   "execution_count": 13,
   "metadata": {},
   "outputs": [],
   "source": [
    "utils.append_dict_to_jsonl(\"./data/infamous-train-wiki.jsonl\", train_wiki)"
   ]
  },
  {
   "cell_type": "code",
   "execution_count": 17,
   "metadata": {},
   "outputs": [],
   "source": [
    "import utils\n",
    "\n",
    "chosen = utils.read_jsonl_file_all(\"./data/infamous/infamous-factscore-wiki.jsonl\")\n",
    "chosen = sorted(chosen, key=itemgetter(\"topic\", \"num_response\"))\n",
    "rejected = utils.read_jsonl_file_all(\"./data/infamous-train-rejected.jsonl\")\n",
    "\n",
    "chosen_batch = utils.split_list_into_batches(chosen, 5)\n",
    "rejected_batch = utils.split_list_into_batches(rejected, 5)"
   ]
  },
  {
   "cell_type": "code",
   "execution_count": 18,
   "metadata": {},
   "outputs": [],
   "source": [
    "for batch in chosen_batch:\n",
    "    same = check_same_topic(batch)\n",
    "    if not same:\n",
    "        print(batch[0][\"topic\"])\n",
    "        raise ValueError()\n",
    "\n",
    "for batch in rejected_batch:\n",
    "    same = check_same_topic(batch)\n",
    "    if not same:\n",
    "        print(batch[0][\"topic\"])\n",
    "        raise ValueError()"
   ]
  },
  {
   "cell_type": "code",
   "execution_count": 19,
   "metadata": {},
   "outputs": [],
   "source": [
    "def build_pairs(list_a, list_b):\n",
    "    pairs = []\n",
    "    for dict_a in list_a:\n",
    "        for dict_b in list_b:\n",
    "            pairs.append((dict_a, dict_b))\n",
    "    return pairs\n",
    "\n",
    "pairs = []\n",
    "for i, batch in enumerate(chosen_batch):\n",
    "    reject_batch = rejected_batch[i]\n",
    "    assert len(reject_batch) == len(batch)\n",
    "    for c in batch:\n",
    "        for r in reject_batch:\n",
    "            pair = {\n",
    "                \"prompt\": c[\"input\"],\n",
    "                \"chosen\": f\"\\n\\n{c['output']}\",\n",
    "                \"rejected\": f\"\\n\\n{r['output']}\",\n",
    "            }\n",
    "            pairs.append(pair)\n",
    "            # utils.append_dict_to_jsonl(\"./data/Phi3_wiki/Phi3-pref-train.jsonl\", pair)\n"
   ]
  },
  {
   "cell_type": "code",
   "execution_count": 20,
   "metadata": {},
   "outputs": [
    {
     "name": "stdout",
     "output_type": "stream",
     "text": [
      "Data written to ./data/infamous/infamous-pref-based-train-wiki.jsonl successfully.\n"
     ]
    },
    {
     "data": {
      "application/vnd.jupyter.widget-view+json": {
       "model_id": "fd64ef84b7d943aeae1a5a03d500b414",
       "version_major": 2,
       "version_minor": 0
      },
      "text/plain": [
       "Saving the dataset (0/1 shards):   0%|          | 0/7400 [00:00<?, ? examples/s]"
      ]
     },
     "metadata": {},
     "output_type": "display_data"
    }
   ],
   "source": [
    "import random\n",
    "from datasets import Dataset\n",
    "\n",
    "utils.write_jsonl(pairs, \"./data/infamous/infamous-pref-based-train-wiki.jsonl\")\n",
    "random.shuffle(pairs)\n",
    "train = convert_list_of_dicts_to_dict(pairs)\n",
    "train = Dataset.from_dict(train)\n",
    "\n",
    "train.save_to_disk(\"./data/hf_datasets/infamous-based-train-wiki\")"
   ]
  },
  {
   "cell_type": "code",
   "execution_count": 3,
   "metadata": {},
   "outputs": [],
   "source": [
    "import utils\n",
    "\n",
    "infamous_all = utils.read_jsonl_file_all(\"./data/infamous/infamous-factscore.jsonl\")\n",
    "infamous_train_wiki = utils.read_jsonl_file_all(\"./data/infamous/infamous-factscore-wiki.jsonl\")"
   ]
  },
  {
   "cell_type": "code",
   "execution_count": 4,
   "metadata": {},
   "outputs": [
    {
     "data": {
      "text/plain": [
       "1480"
      ]
     },
     "execution_count": 4,
     "metadata": {},
     "output_type": "execute_result"
    }
   ],
   "source": [
    "len(infamous_train_wiki)"
   ]
  },
  {
   "cell_type": "code",
   "execution_count": 5,
   "metadata": {},
   "outputs": [],
   "source": [
    "from operator import itemgetter\n",
    "\n",
    "infamous_all = sorted(infamous_all, key=itemgetter(\"topic\", \"num_response\"))\n",
    "infamous_train_wiki = sorted(infamous_train_wiki, key=itemgetter(\"topic\", \"num_response\"))"
   ]
  },
  {
   "cell_type": "code",
   "execution_count": 6,
   "metadata": {},
   "outputs": [],
   "source": [
    "train_names = utils.read_file_lines(\"./infamous_train.txt\")\n",
    "infamous_train = []\n",
    "for d in infamous_all:\n",
    "    if d[\"topic\"] in train_names:\n",
    "        infamous_train.append(d)"
   ]
  },
  {
   "cell_type": "code",
   "execution_count": 10,
   "metadata": {},
   "outputs": [],
   "source": [
    "infamous_train = utils.split_list_into_batches(infamous_train, 10)"
   ]
  },
  {
   "cell_type": "code",
   "execution_count": 12,
   "metadata": {},
   "outputs": [],
   "source": [
    "infamous_rejected = []\n",
    "for batch in infamous_train:\n",
    "    sorted_batch = sorted(batch, key=lambda x: x[\"factscore\"])\n",
    "    lowest_data = sorted_batch[:5]\n",
    "    infamous_rejected.extend(lowest_data)"
   ]
  },
  {
   "cell_type": "code",
   "execution_count": 14,
   "metadata": {},
   "outputs": [
    {
     "name": "stdout",
     "output_type": "stream",
     "text": [
      "Data written to ./data/infamous-train-rejected.jsonl successfully.\n"
     ]
    }
   ],
   "source": [
    "utils.write_jsonl(infamous_rejected, \"./data/infamous-train-rejected.jsonl\")"
   ]
  },
  {
   "cell_type": "code",
   "execution_count": 48,
   "metadata": {},
   "outputs": [],
   "source": [
    "import utils\n",
    "\n",
    "train_names = utils.read_file_lines(\"./train_names.txt\")\n",
    "based = utils.read_jsonl_file_all(\"./data/reference_based/Llama-1-7B-factscore.jsonl\")"
   ]
  },
  {
   "cell_type": "code",
   "execution_count": 49,
   "metadata": {},
   "outputs": [
    {
     "data": {
      "text/plain": [
       "Dataset({\n",
       "    features: ['prompt', 'output'],\n",
       "    num_rows: 2960\n",
       "})"
      ]
     },
     "execution_count": 49,
     "metadata": {},
     "output_type": "execute_result"
    }
   ],
   "source": [
    "from datasets import Dataset\n",
    "\n",
    "data = {\n",
    "    \"prompt\": [],\n",
    "    \"output\": [],\n",
    "}\n",
    "for d in based:\n",
    "    if d[\"topic\"] in train_names:\n",
    "        data[\"prompt\"].append(d[\"input\"])\n",
    "        data[\"output\"].append(d[\"output\"])\n",
    "\n",
    "hf_data = Dataset.from_dict(data)\n",
    "hf_data"
   ]
  },
  {
   "cell_type": "code",
   "execution_count": 50,
   "metadata": {},
   "outputs": [
    {
     "data": {
      "application/vnd.jupyter.widget-view+json": {
       "model_id": "32bb8302b7e54e3b936b6ace6bc2c851",
       "version_major": 2,
       "version_minor": 0
      },
      "text/plain": [
       "Saving the dataset (0/1 shards):   0%|          | 0/2960 [00:00<?, ? examples/s]"
      ]
     },
     "metadata": {},
     "output_type": "display_data"
    }
   ],
   "source": [
    "hf_data.save_to_disk(\"./data/hf_datasets/sft-bio-train\")"
   ]
  },
  {
   "cell_type": "code",
   "execution_count": 30,
   "metadata": {},
   "outputs": [
    {
     "data": {
      "image/png": "[encoded data removed]",
      "text/plain": [
       "<Figure size 640x480 with 1 Axes>"
      ]
     },
     "metadata": {},
     "output_type": "display_data"
    }
   ],
   "source": []
  },
  {
   "cell_type": "code",
   "execution_count": 59,
   "metadata": {},
   "outputs": [
    {
     "name": "stdout",
     "output_type": "stream",
     "text": [
      "Rangi Te Kanawa was a New Zealand Māori leader and politician. He was born in 1850 in the Bay of Islands, and was the son of Te Kanawa and his wife, Te Kahui. He was educated at the Wesleyan Mission School in Auckland, and later became a teacher at the Te Aute College.\n",
      "\n",
      "In 1875, Te Kanawa was elected to the New Zealand House of Representatives as the representative for the Bay of Islands electorate. He was re-elected in 1876, and served until 1879. During his time in Parliament, he was a member of the Native Lands Committee.\n",
      "\n",
      "In 1881, Te Kanawa was appointed as the Native Lands Commissioner for the Bay of Islands. He held this position until 1885, when he was succeeded by William Preece.\n",
      "\n",
      "In 1887, Te Kanawa was appointed as the Native Lands Commissioner for the Northland region. He held this position until 1890, when he was succeeded by William Preece again.\n"
     ]
    }
   ],
   "source": [
    "print(\"\"\"Rangi Te Kanawa was a New Zealand M\\u0101ori leader and politician. He was born in 1850 in the Bay of Islands, and was the son of Te Kanawa and his wife, Te Kahui. He was educated at the Wesleyan Mission School in Auckland, and later became a teacher at the Te Aute College.\\n\\nIn 1875, Te Kanawa was elected to the New Zealand House of Representatives as the representative for the Bay of Islands electorate. He was re-elected in 1876, and served until 1879. During his time in Parliament, he was a member of the Native Lands Committee.\\n\\nIn 1881, Te Kanawa was appointed as the Native Lands Commissioner for the Bay of Islands. He held this position until 1885, when he was succeeded by William Preece.\\n\\nIn 1887, Te Kanawa was appointed as the Native Lands Commissioner for the Northland region. He held this position until 1890, when he was succeeded by William Preece again.\"\"\")"
   ]
  },
  {
   "cell_type": "code",
   "execution_count": null,
   "metadata": {},
   "outputs": [],
   "source": []
  }
 ],
 "metadata": {
  "kernelspec": {
   "display_name": ".venv",
   "language": "python",
   "name": "python3"
  },
  "language_info": {
   "codemirror_mode": {
    "name": "ipython",
    "version": 3
   },
   "file_extension": ".py",
   "mimetype": "text/x-python",
   "name": "python",
   "nbconvert_exporter": "python",
   "pygments_lexer": "ipython3",
   "version": "3.10.14"
  }
 },
 "nbformat": 4,
 "nbformat_minor": 2
}
