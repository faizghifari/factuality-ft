{
 "cells": [
  {
   "cell_type": "code",
   "execution_count": 4,
   "metadata": {},
   "outputs": [],
   "source": [
    "import utils\n",
    "import random\n",
    "\n",
    "from factscore.retrieval import DocDB\n",
    "\n",
    "db = DocDB(db_path=\".cache/factscore/enwiki-20230401.db\")\n",
    "\n",
    "def check_db(ent):\n",
    "    try:\n",
    "        db.get_text_from_title(ent)\n",
    "        return True\n",
    "    except AssertionError:\n",
    "        return False\n",
    "\n",
    "def append_unique_elements_with_check(list_a, list_b, n, check_func):\n",
    "    # Convert lists to sets for faster lookup\n",
    "    set_a = set(list_a)\n",
    "    set_b = set(list_b)\n",
    "\n",
    "    # Find unique elements in list_b that satisfy the check function\n",
    "    unique_elements = [elem for elem in set_b - set_a if check_func(elem)]\n",
    "\n",
    "    # Randomly pick n unique elements\n",
    "    if len(unique_elements) >= n:\n",
    "        new_elements = random.sample(unique_elements, n)\n",
    "    else:\n",
    "        new_elements = unique_elements\n",
    "\n",
    "    # Append new elements to list_a\n",
    "    list_a.extend(new_elements)\n",
    "    return list_a\n",
    "\n",
    "named_entities = utils.read_file_lines(\"./all_names.txt\")\n",
    "chosen_entities = utils.read_file_lines(\"./chosen_names.txt\")\n",
    "\n",
    "new_chosen_names = append_unique_elements_with_check(chosen_entities, named_entities, 355 - len(chosen_entities), check_db)"
   ]
  },
  {
   "cell_type": "code",
   "execution_count": 6,
   "metadata": {},
   "outputs": [],
   "source": [
    "utils.write_list_to_file(\"./chosen_names.txt\", new_chosen_names)"
   ]
  },
  {
   "cell_type": "code",
   "execution_count": null,
   "metadata": {},
   "outputs": [],
   "source": []
  }
 ],
 "metadata": {
  "kernelspec": {
   "display_name": ".venv",
   "language": "python",
   "name": "python3"
  },
  "language_info": {
   "codemirror_mode": {
    "name": "ipython",
    "version": 3
   },
   "file_extension": ".py",
   "mimetype": "text/x-python",
   "name": "python",
   "nbconvert_exporter": "python",
   "pygments_lexer": "ipython3",
   "version": "3.8.10"
  }
 },
 "nbformat": 4,
 "nbformat_minor": 2
}
