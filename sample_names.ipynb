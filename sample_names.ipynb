{
 "cells": [
  {
   "cell_type": "code",
   "execution_count": null,
   "metadata": {},
   "outputs": [],
   "source": [
    "import json\n",
    "import random\n",
    "\n",
    "def read_file_lines(filename):\n",
    "    try:\n",
    "        with open(filename, \"r\") as file:\n",
    "            lines = file.readlines()\n",
    "            # Stripping newline characters from the end of each line\n",
    "            lines = [line.strip() for line in lines]\n",
    "            return lines\n",
    "    except FileNotFoundError:\n",
    "        print(\"File not found.\")\n",
    "        return []\n",
    "\n",
    "def write_jsonl(list_of_dicts, filename):\n",
    "    try:\n",
    "        # Open a file for writing\n",
    "        with open(filename, \"w\") as f:\n",
    "            # Iterate over the list of dictionaries\n",
    "            for item in list_of_dicts:\n",
    "                # Convert each dictionary to a JSON string and write it to the file\n",
    "                json_string = json.dumps(item)\n",
    "                f.write(json_string + \"\\n\")\n",
    "        print(f\"Data written to {filename} successfully.\")\n",
    "    except Exception as e:\n",
    "        print(f\"Error occurred while writing to {filename}: {e}\")"
   ]
  },
  {
   "cell_type": "code",
   "execution_count": null,
   "metadata": {},
   "outputs": [],
   "source": [
    "def common_elements(list1, list2):\n",
    "    common_list = []\n",
    "    for element in list1:\n",
    "        if element in list2:\n",
    "            common_list.append(element)\n",
    "    return common_list\n",
    "\n",
    "def append_unique_elements(list_a, list_b, n):\n",
    "    # Convert lists to sets for faster lookup\n",
    "    set_a = set(list_a)\n",
    "    set_b = set(list_b)\n",
    "\n",
    "    # Find unique elements in list_b\n",
    "    unique_elements = list(set_b - set_a)\n",
    "\n",
    "    # Randomly pick n unique elements\n",
    "    if len(unique_elements) >= n:\n",
    "        new_elements = random.sample(unique_elements, n)\n",
    "    else:\n",
    "        new_elements = unique_elements\n",
    "\n",
    "    # Append new elements to list_a\n",
    "    list_a.extend(new_elements)\n",
    "    return list_a\n",
    "\n",
    "named_entities = read_file_lines(\"./names_clean.txt\")\n",
    "chosen_entities = read_file_lines(\"./chosen_names.txt\")\n",
    "\n",
    "overlap = common_elements(chosen_entities, named_entities)\n",
    "new_chosen_names = append_unique_elements(overlap, named_entities, 355 - len(overlap))"
   ]
  },
  {
   "cell_type": "code",
   "execution_count": null,
   "metadata": {},
   "outputs": [],
   "source": [
    "def filter_dicts_by_topics(file_path, topic_list):\n",
    "    filtered_dicts = []\n",
    "    with open(file_path, 'r') as file:\n",
    "        for line in file:\n",
    "            data = json.loads(line)\n",
    "            if data.get('topic') in topic_list:\n",
    "                filtered_dicts.append(data)\n",
    "    return filtered_dicts\n",
    "\n",
    "filtered_data = filter_dicts_by_topics(\"./data/Llama-1-7B-facts.jsonl\", new_chosen_names)\n",
    "write_jsonl(filtered_data, \"./data/new-Llama-1-7B-facts.jsonl\")\n",
    "\n",
    "filtered_data = filter_dicts_by_topics(\"./data/Llama-1-7B-factscore.jsonl\", new_chosen_names)\n",
    "write_jsonl(filtered_data, \"./data/new-Llama-1-7B-factscore.jsonl\")"
   ]
  }
 ],
 "metadata": {
  "language_info": {
   "name": "python"
  }
 },
 "nbformat": 4,
 "nbformat_minor": 2
}
